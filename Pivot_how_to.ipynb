{
 "cells": [
  {
   "cell_type": "markdown",
   "metadata": {},
   "source": [
    "# Creating Python Pandas Pivot Tables for Labeled Data\n"
   ]
  },
  {
   "cell_type": "markdown",
   "metadata": {},
   "source": [
    "### Data Structure"
   ]
  },
  {
   "cell_type": "markdown",
   "metadata": {},
   "source": [
    "#### Required columns\n",
    "* \"target\" -- a column with 1s and 0s (Does the attribute you are analysing exist or not?)\n",
    "* \"ID\" -- a counter column that was created by replacing the primary key with 1s\n",
    "* \"amount\" -- the quantitative data you want to measure\n",
    "\n",
    "#### Parameters\n",
    "The following piv function takes two parameters: \"df\", which is the pandas dataframe that you are working with, and \"var\", which is the variable you are pivoting against the target variable.\n"
   ]
  },
  {
   "cell_type": "code",
   "execution_count": 1,
   "metadata": {},
   "outputs": [],
   "source": [
    "import pandas as pd\n",
    "import numpy as np\n",
    "\n",
    "def piv(df,var):\n",
    "    p = pd.pivot_table(df, index=[var], \n",
    "                           values=[\"amount\", \"ID\"],columns=\"target\",\n",
    "                               aggfunc={\"amount\":np.sum,\"ID\":np.sum}, fill_value=0, dropna=False) \n",
    "    p['count%'] = (p['ID'][1]/(p['ID'][1]+p['ID'][0]))*100\n",
    "    p['amount%'] = (p['amount'][1]/(p['amount'][1]+p['amount'][0]))*100   \n",
    "    p = p.round(3)\n",
    "    return(p)"
   ]
  },
  {
   "cell_type": "markdown",
   "metadata": {},
   "source": [
    "\n",
    "**piv(df,\"Score\")**\n",
    "\n",
    "gives you the below pivot table:"
   ]
  },
  {
   "cell_type": "code",
   "execution_count": 2,
   "metadata": {},
   "outputs": [],
   "source": [
    "#                ID       amount           count% amount%\n",
    "#target          0  1         0        1                \n",
    "#Score                                                      \n",
    "#500             22  1   5080.60  1074.99   4.348  17.464\n",
    "#over500          3  1    311.82   147.19  25.000  32.067\n",
    "#under500       383  2  93072.09  1404.98   0.519   1.487"
   ]
  },
  {
   "cell_type": "markdown",
   "metadata": {},
   "source": [
    "You can add more variables to your pivot table such as in piv3 which looks at 3 variables against the target variable:"
   ]
  },
  {
   "cell_type": "code",
   "execution_count": 3,
   "metadata": {},
   "outputs": [],
   "source": [
    "def piv3(df, var1,var2,var3):\n",
    "    p = pd.pivot_table(df, index=[ var1,var2,var3], \n",
    "                           values=[\"amount\",\"ID\"],columns=\"target\",\n",
    "                               aggfunc={\"amount\":np.sum,\"ID\":np.sum}, fill_value=0, dropna=False) \n",
    "    p['count%'] = (p['ID'][1]/(p['ID'][1]+p['ID'][0]))*100\n",
    "    p['amount%'] = (p['amount'][1]/(p['amount'][1]+p['amount'][0]))*100\n",
    "    p = p.round(3)\n",
    "    return(p) "
   ]
  },
  {
   "cell_type": "markdown",
   "metadata": {},
   "source": [
    "Notice that p['count%'] creates a new column by selecting p['ID'][1] and doing a calculation. To select IDs where the target=1, you first select the outer column and then you can select the inner column. "
   ]
  },
  {
   "cell_type": "code",
   "execution_count": null,
   "metadata": {},
   "outputs": [],
   "source": []
  }
 ],
 "metadata": {
  "kernelspec": {
   "display_name": "Python 3",
   "language": "python",
   "name": "python3"
  },
  "language_info": {
   "codemirror_mode": {
    "name": "ipython",
    "version": 3
   },
   "file_extension": ".py",
   "mimetype": "text/x-python",
   "name": "python",
   "nbconvert_exporter": "python",
   "pygments_lexer": "ipython3",
   "version": "3.6.5"
  }
 },
 "nbformat": 4,
 "nbformat_minor": 2
}
